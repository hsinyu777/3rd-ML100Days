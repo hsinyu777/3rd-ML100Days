{
 "cells": [
  {
   "cell_type": "markdown",
   "metadata": {},
   "source": [
    "## 練習時間\n",
    "資料的操作有很多，接下來的馬拉松中我們會介紹常被使用到的操作，參加者不妨先自行想像一下，第一次看到資料，我們一般會想知道什麼訊息？\n",
    "\n",
    "#### Ex: 如何知道資料的 row 數以及 column 數、有什麼欄位、多少欄位、如何截取部分的資料等等\n",
    "\n",
    "有了對資料的好奇之後，我們又怎麼通過程式碼來達成我們的目的呢？\n",
    "\n",
    "#### 可參考該[基礎教材](https://bookdata.readthedocs.io/en/latest/base/01_pandas.html#DataFrame-%E5%85%A5%E9%97%A8)或自行 google"
   ]
  },
  {
   "cell_type": "markdown",
   "metadata": {},
   "source": [
    "# [作業目標]\n",
    "- 熟悉更多的 Python 資料操作"
   ]
  },
  {
   "cell_type": "markdown",
   "metadata": {},
   "source": [
    "# [作業重點]\n",
    "- 列出資料的大小 (In[4], Hint : shape)\n",
    "- 列出所有欄位 (In[5], 有多種寫法)\n",
    "- 擷取部分資料 (In[6], Hint : loc 或 iloc)"
   ]
  },
  {
   "cell_type": "code",
   "execution_count": 2,
   "metadata": {},
   "outputs": [],
   "source": [
    "import os\n",
    "import numpy as np\n",
    "import pandas as pd"
   ]
  },
  {
   "cell_type": "code",
   "execution_count": 3,
   "metadata": {},
   "outputs": [],
   "source": [
    "# 設定 data_path\n",
    "dir_data = './data/'"
   ]
  },
  {
   "cell_type": "code",
   "execution_count": 4,
   "metadata": {},
   "outputs": [
    {
     "name": "stdout",
     "output_type": "stream",
     "text": [
      "Path of read in data: ./data/application_train.csv\n"
     ]
    }
   ],
   "source": [
    "f_app = os.path.join(dir_data, 'application_train.csv')\n",
    "print('Path of read in data: %s' % (f_app))\n",
    "app_train = pd.read_csv(f_app)"
   ]
  },
  {
   "cell_type": "markdown",
   "metadata": {},
   "source": [
    "### 如果沒有想法，可以先嘗試找出剛剛例子中提到的問題的答案\n",
    "#### 資料的 row 數以及 column 數"
   ]
  },
  {
   "cell_type": "code",
   "execution_count": 5,
   "metadata": {},
   "outputs": [
    {
     "name": "stdout",
     "output_type": "stream",
     "text": [
      "<class 'pandas.core.frame.DataFrame'>\n",
      "RangeIndex: 307511 entries, 0 to 307510\n",
      "Columns: 122 entries, SK_ID_CURR to AMT_REQ_CREDIT_BUREAU_YEAR\n",
      "dtypes: float64(65), int64(41), object(16)\n",
      "memory usage: 286.2+ MB\n"
     ]
    }
   ],
   "source": [
    "app_train.info()"
   ]
  },
  {
   "cell_type": "markdown",
   "metadata": {},
   "source": [
    "#### 列出所有欄位"
   ]
  },
  {
   "cell_type": "code",
   "execution_count": 7,
   "metadata": {},
   "outputs": [
    {
     "data": {
      "text/plain": [
       "['SK_ID_CURR',\n",
       " 'TARGET',\n",
       " 'NAME_CONTRACT_TYPE',\n",
       " 'CODE_GENDER',\n",
       " 'FLAG_OWN_CAR',\n",
       " 'FLAG_OWN_REALTY',\n",
       " 'CNT_CHILDREN',\n",
       " 'AMT_INCOME_TOTAL',\n",
       " 'AMT_CREDIT',\n",
       " 'AMT_ANNUITY',\n",
       " 'AMT_GOODS_PRICE',\n",
       " 'NAME_TYPE_SUITE',\n",
       " 'NAME_INCOME_TYPE',\n",
       " 'NAME_EDUCATION_TYPE',\n",
       " 'NAME_FAMILY_STATUS',\n",
       " 'NAME_HOUSING_TYPE',\n",
       " 'REGION_POPULATION_RELATIVE',\n",
       " 'DAYS_BIRTH',\n",
       " 'DAYS_EMPLOYED',\n",
       " 'DAYS_REGISTRATION',\n",
       " 'DAYS_ID_PUBLISH',\n",
       " 'OWN_CAR_AGE',\n",
       " 'FLAG_MOBIL',\n",
       " 'FLAG_EMP_PHONE',\n",
       " 'FLAG_WORK_PHONE',\n",
       " 'FLAG_CONT_MOBILE',\n",
       " 'FLAG_PHONE',\n",
       " 'FLAG_EMAIL',\n",
       " 'OCCUPATION_TYPE',\n",
       " 'CNT_FAM_MEMBERS',\n",
       " 'REGION_RATING_CLIENT',\n",
       " 'REGION_RATING_CLIENT_W_CITY',\n",
       " 'WEEKDAY_APPR_PROCESS_START',\n",
       " 'HOUR_APPR_PROCESS_START',\n",
       " 'REG_REGION_NOT_LIVE_REGION',\n",
       " 'REG_REGION_NOT_WORK_REGION',\n",
       " 'LIVE_REGION_NOT_WORK_REGION',\n",
       " 'REG_CITY_NOT_LIVE_CITY',\n",
       " 'REG_CITY_NOT_WORK_CITY',\n",
       " 'LIVE_CITY_NOT_WORK_CITY',\n",
       " 'ORGANIZATION_TYPE',\n",
       " 'EXT_SOURCE_1',\n",
       " 'EXT_SOURCE_2',\n",
       " 'EXT_SOURCE_3',\n",
       " 'APARTMENTS_AVG',\n",
       " 'BASEMENTAREA_AVG',\n",
       " 'YEARS_BEGINEXPLUATATION_AVG',\n",
       " 'YEARS_BUILD_AVG',\n",
       " 'COMMONAREA_AVG',\n",
       " 'ELEVATORS_AVG',\n",
       " 'ENTRANCES_AVG',\n",
       " 'FLOORSMAX_AVG',\n",
       " 'FLOORSMIN_AVG',\n",
       " 'LANDAREA_AVG',\n",
       " 'LIVINGAPARTMENTS_AVG',\n",
       " 'LIVINGAREA_AVG',\n",
       " 'NONLIVINGAPARTMENTS_AVG',\n",
       " 'NONLIVINGAREA_AVG',\n",
       " 'APARTMENTS_MODE',\n",
       " 'BASEMENTAREA_MODE',\n",
       " 'YEARS_BEGINEXPLUATATION_MODE',\n",
       " 'YEARS_BUILD_MODE',\n",
       " 'COMMONAREA_MODE',\n",
       " 'ELEVATORS_MODE',\n",
       " 'ENTRANCES_MODE',\n",
       " 'FLOORSMAX_MODE',\n",
       " 'FLOORSMIN_MODE',\n",
       " 'LANDAREA_MODE',\n",
       " 'LIVINGAPARTMENTS_MODE',\n",
       " 'LIVINGAREA_MODE',\n",
       " 'NONLIVINGAPARTMENTS_MODE',\n",
       " 'NONLIVINGAREA_MODE',\n",
       " 'APARTMENTS_MEDI',\n",
       " 'BASEMENTAREA_MEDI',\n",
       " 'YEARS_BEGINEXPLUATATION_MEDI',\n",
       " 'YEARS_BUILD_MEDI',\n",
       " 'COMMONAREA_MEDI',\n",
       " 'ELEVATORS_MEDI',\n",
       " 'ENTRANCES_MEDI',\n",
       " 'FLOORSMAX_MEDI',\n",
       " 'FLOORSMIN_MEDI',\n",
       " 'LANDAREA_MEDI',\n",
       " 'LIVINGAPARTMENTS_MEDI',\n",
       " 'LIVINGAREA_MEDI',\n",
       " 'NONLIVINGAPARTMENTS_MEDI',\n",
       " 'NONLIVINGAREA_MEDI',\n",
       " 'FONDKAPREMONT_MODE',\n",
       " 'HOUSETYPE_MODE',\n",
       " 'TOTALAREA_MODE',\n",
       " 'WALLSMATERIAL_MODE',\n",
       " 'EMERGENCYSTATE_MODE',\n",
       " 'OBS_30_CNT_SOCIAL_CIRCLE',\n",
       " 'DEF_30_CNT_SOCIAL_CIRCLE',\n",
       " 'OBS_60_CNT_SOCIAL_CIRCLE',\n",
       " 'DEF_60_CNT_SOCIAL_CIRCLE',\n",
       " 'DAYS_LAST_PHONE_CHANGE',\n",
       " 'FLAG_DOCUMENT_2',\n",
       " 'FLAG_DOCUMENT_3',\n",
       " 'FLAG_DOCUMENT_4',\n",
       " 'FLAG_DOCUMENT_5',\n",
       " 'FLAG_DOCUMENT_6',\n",
       " 'FLAG_DOCUMENT_7',\n",
       " 'FLAG_DOCUMENT_8',\n",
       " 'FLAG_DOCUMENT_9',\n",
       " 'FLAG_DOCUMENT_10',\n",
       " 'FLAG_DOCUMENT_11',\n",
       " 'FLAG_DOCUMENT_12',\n",
       " 'FLAG_DOCUMENT_13',\n",
       " 'FLAG_DOCUMENT_14',\n",
       " 'FLAG_DOCUMENT_15',\n",
       " 'FLAG_DOCUMENT_16',\n",
       " 'FLAG_DOCUMENT_17',\n",
       " 'FLAG_DOCUMENT_18',\n",
       " 'FLAG_DOCUMENT_19',\n",
       " 'FLAG_DOCUMENT_20',\n",
       " 'FLAG_DOCUMENT_21',\n",
       " 'AMT_REQ_CREDIT_BUREAU_HOUR',\n",
       " 'AMT_REQ_CREDIT_BUREAU_DAY',\n",
       " 'AMT_REQ_CREDIT_BUREAU_WEEK',\n",
       " 'AMT_REQ_CREDIT_BUREAU_MON',\n",
       " 'AMT_REQ_CREDIT_BUREAU_QRT',\n",
       " 'AMT_REQ_CREDIT_BUREAU_YEAR']"
      ]
     },
     "execution_count": 7,
     "metadata": {},
     "output_type": "execute_result"
    }
   ],
   "source": [
    "app_train.columns.values.tolist()"
   ]
  },
  {
   "cell_type": "markdown",
   "metadata": {},
   "source": [
    "#### 截取部分資料"
   ]
  },
  {
   "cell_type": "code",
   "execution_count": 8,
   "metadata": {},
   "outputs": [
    {
     "name": "stdout",
     "output_type": "stream",
     "text": [
      "       NAME_CONTRACT_TYPE  AMT_INCOME_TOTAL\n",
      "0              Cash loans        202500.000\n",
      "1              Cash loans        270000.000\n",
      "2         Revolving loans         67500.000\n",
      "3              Cash loans        135000.000\n",
      "4              Cash loans        121500.000\n",
      "5              Cash loans         99000.000\n",
      "6              Cash loans        171000.000\n",
      "7              Cash loans        360000.000\n",
      "8              Cash loans        112500.000\n",
      "9         Revolving loans        135000.000\n",
      "10             Cash loans        112500.000\n",
      "11             Cash loans         38419.155\n",
      "12             Cash loans         67500.000\n",
      "13             Cash loans        225000.000\n",
      "14             Cash loans        189000.000\n",
      "15             Cash loans        157500.000\n",
      "16             Cash loans        108000.000\n",
      "17        Revolving loans         81000.000\n",
      "18        Revolving loans        112500.000\n",
      "19             Cash loans         90000.000\n",
      "20        Revolving loans        135000.000\n",
      "21             Cash loans        202500.000\n",
      "22             Cash loans        450000.000\n",
      "23             Cash loans         83250.000\n",
      "24             Cash loans        135000.000\n",
      "25             Cash loans         90000.000\n",
      "26             Cash loans        112500.000\n",
      "27             Cash loans        112500.000\n",
      "28             Cash loans        270000.000\n",
      "29        Revolving loans         90000.000\n",
      "...                   ...               ...\n",
      "307481         Cash loans        225000.000\n",
      "307482         Cash loans        225000.000\n",
      "307483         Cash loans         99000.000\n",
      "307484         Cash loans        540000.000\n",
      "307485    Revolving loans        270000.000\n",
      "307486         Cash loans        292500.000\n",
      "307487         Cash loans        117000.000\n",
      "307488         Cash loans        157500.000\n",
      "307489         Cash loans        225000.000\n",
      "307490         Cash loans         81000.000\n",
      "307491         Cash loans         90000.000\n",
      "307492         Cash loans        585000.000\n",
      "307493         Cash loans        135000.000\n",
      "307494         Cash loans        270000.000\n",
      "307495         Cash loans        180000.000\n",
      "307496    Revolving loans        360000.000\n",
      "307497         Cash loans        180000.000\n",
      "307498         Cash loans        198000.000\n",
      "307499         Cash loans         81000.000\n",
      "307500         Cash loans        261000.000\n",
      "307501         Cash loans         81000.000\n",
      "307502         Cash loans         94500.000\n",
      "307503         Cash loans        112500.000\n",
      "307504         Cash loans        153000.000\n",
      "307505         Cash loans        112500.000\n",
      "307506         Cash loans        157500.000\n",
      "307507         Cash loans         72000.000\n",
      "307508         Cash loans        153000.000\n",
      "307509         Cash loans        171000.000\n",
      "307510         Cash loans        157500.000\n",
      "\n",
      "[307511 rows x 2 columns]\n",
      "SK_ID_CURR                                  456255\n",
      "TARGET                                           0\n",
      "NAME_CONTRACT_TYPE                      Cash loans\n",
      "CODE_GENDER                                      F\n",
      "FLAG_OWN_CAR                                     N\n",
      "FLAG_OWN_REALTY                                  N\n",
      "CNT_CHILDREN                                     0\n",
      "AMT_INCOME_TOTAL                            157500\n",
      "AMT_CREDIT                                  675000\n",
      "AMT_ANNUITY                                49117.5\n",
      "AMT_GOODS_PRICE                             675000\n",
      "NAME_TYPE_SUITE                      Unaccompanied\n",
      "NAME_INCOME_TYPE              Commercial associate\n",
      "NAME_EDUCATION_TYPE               Higher education\n",
      "NAME_FAMILY_STATUS                         Married\n",
      "NAME_HOUSING_TYPE                House / apartment\n",
      "REGION_POPULATION_RELATIVE                 0.04622\n",
      "DAYS_BIRTH                                  -16856\n",
      "DAYS_EMPLOYED                                -1262\n",
      "DAYS_REGISTRATION                            -5128\n",
      "DAYS_ID_PUBLISH                               -410\n",
      "OWN_CAR_AGE                                    NaN\n",
      "FLAG_MOBIL                                       1\n",
      "FLAG_EMP_PHONE                                   1\n",
      "FLAG_WORK_PHONE                                  1\n",
      "FLAG_CONT_MOBILE                                 1\n",
      "FLAG_PHONE                                       1\n",
      "FLAG_EMAIL                                       0\n",
      "OCCUPATION_TYPE                           Laborers\n",
      "CNT_FAM_MEMBERS                                  2\n",
      "                                      ...         \n",
      "DEF_30_CNT_SOCIAL_CIRCLE                         0\n",
      "OBS_60_CNT_SOCIAL_CIRCLE                         0\n",
      "DEF_60_CNT_SOCIAL_CIRCLE                         0\n",
      "DAYS_LAST_PHONE_CHANGE                        -787\n",
      "FLAG_DOCUMENT_2                                  0\n",
      "FLAG_DOCUMENT_3                                  1\n",
      "FLAG_DOCUMENT_4                                  0\n",
      "FLAG_DOCUMENT_5                                  0\n",
      "FLAG_DOCUMENT_6                                  0\n",
      "FLAG_DOCUMENT_7                                  0\n",
      "FLAG_DOCUMENT_8                                  0\n",
      "FLAG_DOCUMENT_9                                  0\n",
      "FLAG_DOCUMENT_10                                 0\n",
      "FLAG_DOCUMENT_11                                 0\n",
      "FLAG_DOCUMENT_12                                 0\n",
      "FLAG_DOCUMENT_13                                 0\n",
      "FLAG_DOCUMENT_14                                 0\n",
      "FLAG_DOCUMENT_15                                 0\n",
      "FLAG_DOCUMENT_16                                 0\n",
      "FLAG_DOCUMENT_17                                 0\n",
      "FLAG_DOCUMENT_18                                 0\n",
      "FLAG_DOCUMENT_19                                 0\n",
      "FLAG_DOCUMENT_20                                 0\n",
      "FLAG_DOCUMENT_21                                 0\n",
      "AMT_REQ_CREDIT_BUREAU_HOUR                       0\n",
      "AMT_REQ_CREDIT_BUREAU_DAY                        0\n",
      "AMT_REQ_CREDIT_BUREAU_WEEK                       0\n",
      "AMT_REQ_CREDIT_BUREAU_MON                        2\n",
      "AMT_REQ_CREDIT_BUREAU_QRT                        0\n",
      "AMT_REQ_CREDIT_BUREAU_YEAR                       1\n",
      "Name: 307510, Length: 122, dtype: object\n"
     ]
    }
   ],
   "source": [
    "app1 = app_train.loc[:,['NAME_CONTRACT_TYPE','AMT_INCOME_TOTAL']]\n",
    "app2 = app_train.iloc[307510]\n",
    "print(app1)\n",
    "\n",
    "print(app2)"
   ]
  },
  {
   "cell_type": "markdown",
   "metadata": {},
   "source": [
    "#### 還有各種數之不盡的資料操作，重點還是取決於實務中遇到的狀況和你想問的問題，在馬拉松中我們也會陸續提到更多例子"
   ]
  },
  {
   "cell_type": "code",
   "execution_count": null,
   "metadata": {
    "collapsed": true
   },
   "outputs": [],
   "source": []
  }
 ],
 "metadata": {
  "kernelspec": {
   "display_name": "Python 3",
   "language": "python",
   "name": "python3"
  },
  "language_info": {
   "codemirror_mode": {
    "name": "ipython",
    "version": 3
   },
   "file_extension": ".py",
   "mimetype": "text/x-python",
   "name": "python",
   "nbconvert_exporter": "python",
   "pygments_lexer": "ipython3",
   "version": "3.7.3"
  }
 },
 "nbformat": 4,
 "nbformat_minor": 2
}
